{
 "cells": [
  {
   "cell_type": "code",
   "execution_count": null,
   "metadata": {
    "ExecuteTime": {
     "start_time": "2023-08-17T15:12:57.637420Z",
     "end_time": "2023-08-17T15:12:57.733606Z"
    }
   },
   "outputs": [],
   "source": [
    "import geoviews as gv\n",
    "import cartopy.crs as ccrs\n",
    "import numpy as np\n",
    "import holoviews as hv\n",
    "import cmocean\n",
    "import uxarray as ux\n",
    "\n",
    "hv.extension(\"matplotlib\")"
   ]
  },
  {
   "cell_type": "code",
   "execution_count": null,
   "metadata": {
    "ExecuteTime": {
     "start_time": "2023-08-17T15:12:57.735605Z",
     "end_time": "2023-08-17T15:12:57.794605Z"
    }
   },
   "outputs": [],
   "source": [
    "grid_path = r\"C:\\Users\\philipc2\\PycharmProjects\\uxarray-poly\\uxarray\\test\\meshfiles\\mpas\\QU\\mesh.QU.1920km.151026.nc\"\n",
    "uxgrid = ux.open_grid(grid_path, use_dual=True)\n",
    "gdf = uxgrid.to_geodataframe()"
   ]
  },
  {
   "cell_type": "code",
   "execution_count": null,
   "metadata": {
    "ExecuteTime": {
     "start_time": "2023-08-17T15:12:57.975839Z",
     "end_time": "2023-08-17T15:12:57.982959Z"
    }
   },
   "outputs": [],
   "source": [
    "gdf = uxgrid.to_geodataframe()"
   ]
  },
  {
   "cell_type": "code",
   "execution_count": null,
   "metadata": {
    "ExecuteTime": {
     "start_time": "2023-08-17T15:12:58.123759Z",
     "end_time": "2023-08-17T15:12:58.132469Z"
    }
   },
   "outputs": [],
   "source": [
    "scale_factor = (uxgrid.Mesh2_face_y.values)\n",
    "scale_factor_norm = (scale_factor - np.min(scale_factor)) / (np.max(scale_factor) - np.min(scale_factor))\n",
    "\n",
    "gdf[\"face_color\"] = scale_factor_norm"
   ]
  },
  {
   "cell_type": "code",
   "execution_count": null,
   "outputs": [],
   "source": [
    "cmap = cmocean.cm.haline"
   ],
   "metadata": {
    "collapsed": false
   }
  },
  {
   "cell_type": "code",
   "execution_count": null,
   "metadata": {
    "ExecuteTime": {
     "start_time": "2023-08-17T15:13:15.162385Z",
     "end_time": "2023-08-17T15:13:16.535385Z"
    }
   },
   "outputs": [],
   "source": [
    "logo = gv.Polygons(gdf,vdims=['face_color']).opts(projection=ccrs.Geostationary(central_longitude=90), cmap=cmap, linewidth=30, fig_inches=80)\n",
    "logo"
   ]
  }
 ],
 "metadata": {
  "kernelspec": {
   "display_name": "Python 3 (ipykernel)",
   "language": "python",
   "name": "python3"
  },
  "language_info": {
   "codemirror_mode": {
    "name": "ipython",
    "version": 3
   },
   "file_extension": ".py",
   "mimetype": "text/x-python",
   "name": "python",
   "nbconvert_exporter": "python",
   "pygments_lexer": "ipython3",
   "version": "3.11.4"
  }
 },
 "nbformat": 4,
 "nbformat_minor": 1
}
